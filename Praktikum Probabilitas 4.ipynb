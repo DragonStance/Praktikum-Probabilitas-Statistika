{
 "cells": [
  {
   "cell_type": "code",
   "execution_count": 1,
   "id": "3aac63fb",
   "metadata": {},
   "outputs": [
    {
     "name": "stdout",
     "output_type": "stream",
     "text": [
      "0.12850543909885506\n"
     ]
    }
   ],
   "source": [
    "from scipy import stats\n",
    "X = stats.binom(15, 0.1)\n",
    "print(X.pmf(3)) # P(X = 3)"
   ]
  },
  {
   "cell_type": "code",
   "execution_count": 2,
   "id": "0db0ad00",
   "metadata": {},
   "outputs": [
    {
     "name": "stdout",
     "output_type": "stream",
     "text": [
      "0.8159389308936088\n"
     ]
    }
   ],
   "source": [
    "print(X.cdf(2)) # P(X <= 2)"
   ]
  },
  {
   "cell_type": "code",
   "execution_count": 3,
   "id": "e8ea55af",
   "metadata": {},
   "outputs": [
    {
     "name": "stdout",
     "output_type": "stream",
     "text": [
      "0.0022160451970800023\n"
     ]
    }
   ],
   "source": [
    "print(X.pmf(6)+X.pmf(7))"
   ]
  },
  {
   "cell_type": "code",
   "execution_count": 4,
   "id": "5c9df396",
   "metadata": {},
   "outputs": [
    {
     "name": "stdout",
     "output_type": "stream",
     "text": [
      "0.17546736976785063\n"
     ]
    }
   ],
   "source": [
    "from scipy import stats\n",
    "Y = stats.poisson(5)\n",
    "print(Y.pmf(4)) # P(Y = 4)"
   ]
  },
  {
   "cell_type": "code",
   "execution_count": 5,
   "id": "8e837fb5",
   "metadata": {},
   "outputs": [
    {
     "name": "stdout",
     "output_type": "stream",
     "text": [
      "0.1788630505698796\n"
     ]
    }
   ],
   "source": [
    "from scipy import stats\n",
    "\n",
    "# Mendefinisikan variabel X sebagai distribusi binomial dengan 15 percobaan dan probabilitas sukses 0.1\n",
    "X = stats.binom(20, 0.7)\n",
    "\n",
    "# Menghitung probabilitas massa X sama dengan 3\n",
    "pmf_15 = X.pmf(15)\n",
    "\n",
    "# Mencetak nilai probabilitas\n",
    "print(pmf_15)"
   ]
  },
  {
   "cell_type": "code",
   "execution_count": 6,
   "id": "cfb0f18e",
   "metadata": {},
   "outputs": [
    {
     "name": "stdout",
     "output_type": "stream",
     "text": [
      "0.18044704431548356\n"
     ]
    }
   ],
   "source": [
    "from scipy import stats\n",
    "Y = stats.poisson(2)\n",
    "\n",
    "print(Y.pmf(3)) # \\(P(Y=3)\\)"
   ]
  },
  {
   "cell_type": "code",
   "execution_count": 7,
   "id": "d25820fb",
   "metadata": {},
   "outputs": [
    {
     "name": "stdout",
     "output_type": "stream",
     "text": [
      "Probabilitas tepat 5 dari 15 perangkat gagal adalah: 0.20613038097752087\n"
     ]
    }
   ],
   "source": [
    "from scipy.stats import binom\n",
    "\n",
    "# Parameter\n",
    "n = 15        # jumlah perangkat\n",
    "k = 5         # jumlah kegagalan yang dicari\n",
    "p = 0.3       # probabilitas kegagalan\n",
    "\n",
    "# Hitung probabilitas\n",
    "prob = binom.pmf(k, n, p)\n",
    "\n",
    "# Tampilkan hasil\n",
    "print(f\"Probabilitas tepat 5 dari 15 perangkat gagal adalah: {prob}\")"
   ]
  }
 ],
 "metadata": {
  "kernelspec": {
   "display_name": "base",
   "language": "python",
   "name": "python3"
  },
  "language_info": {
   "codemirror_mode": {
    "name": "ipython",
    "version": 3
   },
   "file_extension": ".py",
   "mimetype": "text/x-python",
   "name": "python",
   "nbconvert_exporter": "python",
   "pygments_lexer": "ipython3",
   "version": "3.12.3"
  }
 },
 "nbformat": 4,
 "nbformat_minor": 5
}
