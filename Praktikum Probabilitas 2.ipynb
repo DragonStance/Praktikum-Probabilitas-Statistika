{
 "cells": [
  {
   "cell_type": "code",
   "execution_count": 3,
   "metadata": {},
   "outputs": [
    {
     "name": "stdout",
     "output_type": "stream",
     "text": [
      "\n",
      "Hasil Kueri:\n",
      "('Wawan', 'L', 2024, 160, 45, 'Tanjung Priok\\r')\n",
      "('Diva', 'P', 2024, 165, 30, 'Pademangan\\r')\n",
      "('Indilla', 'P', 2024, 159, 55, 'Bekasi\\r')\n",
      "('Billie', 'P', 2024, 170, 40, 'Tangerang\\r')\n",
      "('Elish', 'P', 2024, 155, 60, 'Koja\\r')\n",
      "('Kai', 'L', 2024, 150, 20, 'Sunter\\r')\n",
      "('Cenat', 'L', 2024, 157, 30, 'Kelapa Gading\\r')\n",
      "('Marshall', 'L', 2024, 179, 15, 'Kalideres\\r')\n",
      "('Lili', 'P', 2024, 175, 25, 'Batu Ceper\\r')\n",
      "('Tirta', 'L', 2024, 170, 50, 'Angke\\r')\n",
      "('Rafael', 'L', 2024, 175, 30, 'Rawabadak\\r')\n",
      "('Hasna', 'P', 2024, 170, 50, 'Warakas\\r')\n",
      "('Larongge', 'L', 2024, 172, 40, 'Swasembada\\r')\n",
      "('Fatihul', 'L', 2024, 165, 45, 'Papanggo\\r')\n",
      "('Nizar', 'L', 2024, 168, 20, 'Tanjung Duren\\r')\n",
      "('Charin', 'P', 2024, 163, 25, 'Prof Lutmen\\r')\n",
      "('Ridhwan', 'L', 2024, 160, 45, 'Pluit\\r')\n",
      "('Egla', 'P', 2024, 166, 10, 'Pasar Baru\\r')\n",
      "('Afif', 'L', 2024, 170, 10, 'Satria\\r')\n",
      "('Bagas', 'L', 2024, 165, 20, 'Cililitan\\r')\n"
     ]
    }
   ],
   "source": [
    "import mysql.connector\n",
    "\n",
    "# Membuat koneksi ke MySQL\n",
    "connection = mysql.connector.connect(\n",
    "    host=\"localhost\",\n",
    "    user=\"root\",\n",
    "    password=\"\",\n",
    "    database=\"ps2ridhwan\"\n",
    ")\n",
    "\n",
    "# Membuat objek cursor untuk mengeksekusi kueri\n",
    "cursor = connection.cursor()\n",
    "\n",
    "try:\n",
    "    # Mengeksekusi kueri SQL\n",
    "    my_query = \"SELECT * FROM bahanpraktikumstatistika1;\"\n",
    "    cursor.execute(my_query)\n",
    "    \n",
    "    # Mengambil semua hasil kueri\n",
    "    result = cursor.fetchall()\n",
    "    \n",
    "    # Menampilkan hasil kueri\n",
    "    print(\"\\nHasil Kueri:\")\n",
    "    for row in result:\n",
    "        print(row)\n",
    "\n",
    "finally:\n",
    "    # Menutup kursor dan koneksi\n",
    "    cursor.close()\n",
    "    connection.close()"
   ]
  },
  {
   "cell_type": "code",
   "execution_count": 5,
   "metadata": {},
   "outputs": [
    {
     "name": "stdout",
     "output_type": "stream",
     "text": [
      "        NAMA GENDER  ANGKATAN  TINGGI BADAN  WAKTU PERJALANAN  WILAYAH TINGGAL\n",
      "0      Wawan      L      2024           160                45  Tanjung Priok\\r\n",
      "5        Kai      L      2024           150                20         Sunter\\r\n",
      "6      Cenat      L      2024           157                30  Kelapa Gading\\r\n",
      "7   Marshall      L      2024           179                15      Kalideres\\r\n",
      "9      Tirta      L      2024           170                50          Angke\\r\n",
      "10    Rafael      L      2024           175                30      Rawabadak\\r\n",
      "12  Larongge      L      2024           172                40     Swasembada\\r\n",
      "13   Fatihul      L      2024           165                45       Papanggo\\r\n",
      "14     Nizar      L      2024           168                20  Tanjung Duren\\r\n",
      "16   Ridhwan      L      2024           160                45          Pluit\\r\n",
      "18      Afif      L      2024           170                10         Satria\\r\n",
      "19     Bagas      L      2024           165                20      Cililitan\\r\n"
     ]
    }
   ],
   "source": [
    "import pandas as pd\n",
    "#Mengonversi hasil kueri ke DataFrame Pandas\n",
    "df = pd.DataFrame(result, columns=[desc[0] for desc in cursor.description])\n",
    "\n",
    "#Filter data berdasarkan kondisi yang kompleks\n",
    "df_filtered = df[(df['GENDER'] == 'L')]\n",
    "\n",
    "#Menampilkan hasil filter\n",
    "print(df_filtered)"
   ]
  }
 ],
 "metadata": {
  "kernelspec": {
   "display_name": "base",
   "language": "python",
   "name": "python3"
  },
  "language_info": {
   "codemirror_mode": {
    "name": "ipython",
    "version": 3
   },
   "file_extension": ".py",
   "mimetype": "text/x-python",
   "name": "python",
   "nbconvert_exporter": "python",
   "pygments_lexer": "ipython3",
   "version": "3.12.3"
  }
 },
 "nbformat": 4,
 "nbformat_minor": 2
}
