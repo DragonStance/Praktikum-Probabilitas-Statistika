{
 "cells": [
  {
   "cell_type": "code",
   "execution_count": 33,
   "metadata": {},
   "outputs": [
    {
     "name": "stdout",
     "output_type": "stream",
     "text": [
      "        NAMA GENDER  ANGKATAN  TINGGI BADAN  WAKTU PERJALANAN WILAYAH TINGGAL\n",
      "0      Wawan      L      2024           160                45   Tanjung Priok\n",
      "1       Diva      P      2024           165                30      Pademangan\n",
      "2    Indilla      P      2024           159                55          Bekasi\n",
      "3     Billie      P      2024           170                40       Tangerang\n",
      "4      Elish      P      2024           155                60            Koja\n",
      "5        Kai      L      2024           150                20          Sunter\n",
      "6      Cenat      L      2024           157                30   Kelapa Gading\n",
      "7   Marshall      L      2024           179                15       Kalideres\n",
      "8       Lili      P      2024           175                25      Batu Ceper\n",
      "9      Tirta      L      2024           170                50           Angke\n",
      "10    Rafael      L      2024           175                30       Rawabadak\n",
      "11     Hasna      P      2024           170                50         Warakas\n",
      "12  Larongge      L      2024           172                40      Swasembada\n",
      "13   Fatihul      L      2024           165                45        Papanggo\n",
      "14     Nizar      L      2024           168                20   Tanjung Duren\n",
      "15    Charin      P      2024           163                25     Prof Lutmen\n",
      "16   Ridhwan      L      2024           160                45           Pluit\n",
      "17      Egla      P      2024           166                10      Pasar Baru\n",
      "18      Afif      L      2024           170                10          Satria\n",
      "19     Bagas      L      2024           165                20       Cililitan\n",
      "20     Anang      L      2024           175                30     Tanah Abang\n",
      "21     Reina      P      2024           167                55          Cawang\n",
      "22     Sekar      P      2024           160                40  Kampung Bandan\n",
      "23      Paul      l      2024           175                60        Cikarang\n",
      "24       Edi      L      2024           173                30      Pademangan\n",
      "25      Anna      P      2024           175                30         Pantura\n",
      "26      Rina      P      2024           159                25            Jeju\n",
      "27     Darma      L      2024           166                15           Tokyo\n",
      "28       Dio      L      2024           168                10      Pasar Lama\n",
      "29      Lala      P      2024           170                 5            Enim\n"
     ]
    }
   ],
   "source": [
    "import pandas as pd\n",
    "\n",
    "df = pd.read_clipboard()\n",
    "\n",
    "# Menampilkan data\n",
    "print(df)"
   ]
  },
  {
   "cell_type": "code",
   "execution_count": 34,
   "metadata": {},
   "outputs": [
    {
     "name": "stdout",
     "output_type": "stream",
     "text": [
      "Subset Data:\n",
      "    TINGGI BADAN\n",
      "0           160\n",
      "1           165\n",
      "2           159\n",
      "3           170\n",
      "4           155\n"
     ]
    }
   ],
   "source": [
    "df_subset = df[[\"TINGGI BADAN\"]]\n",
    "print(\"Subset Data:\\n\", df_subset.head())"
   ]
  },
  {
   "cell_type": "code",
   "execution_count": 35,
   "metadata": {},
   "outputs": [
    {
     "name": "stdout",
     "output_type": "stream",
     "text": [
      "\n",
      "Setelah Mengubah Nilai Tinggi Badan:\n",
      "    TINGGI BADAN Kategori Tinggi\n",
      "0           160          Pendek\n",
      "1           165          Tinggi\n",
      "2           159          Pendek\n",
      "3           170          Tinggi\n",
      "4           155          Pendek\n"
     ]
    }
   ],
   "source": [
    "df[\"Kategori Tinggi\"] = df[\"TINGGI BADAN\"].apply(lambda x: \"Tinggi\" if x > 160 else \"Pendek\")\n",
    "print(\"\\nSetelah Mengubah Nilai Tinggi Badan:\\n\", df[[\"TINGGI BADAN\", \"Kategori Tinggi\"]].head())"
   ]
  },
  {
   "cell_type": "code",
   "execution_count": 36,
   "metadata": {},
   "outputs": [
    {
     "name": "stdout",
     "output_type": "stream",
     "text": [
      "\n",
      "Setelah Menambah Kolom:\n",
      "       NAMA GENDER  ANGKATAN  TINGGI BADAN  WAKTU PERJALANAN WILAYAH TINGGAL  \\\n",
      "0    Wawan      L      2024           160                45   Tanjung Priok   \n",
      "1     Diva      P      2024           165                30      Pademangan   \n",
      "2  Indilla      P      2024           159                55          Bekasi   \n",
      "3   Billie      P      2024           170                40       Tangerang   \n",
      "4    Elish      P      2024           155                60            Koja   \n",
      "\n",
      "  Kategori Tinggi  Jurusan Fakultas  \n",
      "0          Pendek  Infor20      FTI  \n",
      "1          Tinggi  Infor20      FTI  \n",
      "2          Pendek  Infor20      FTI  \n",
      "3          Tinggi  Infor20      FTI  \n",
      "4          Pendek  Infor20      FTI  \n"
     ]
    }
   ],
   "source": [
    "df[\"Jurusan\"] = \"Infor20\"\n",
    "df[\"Fakultas\"] = \"FTI\"\n",
    "print(\"\\nSetelah Menambah Kolom:\\n\", df.head())"
   ]
  },
  {
   "cell_type": "code",
   "execution_count": 37,
   "metadata": {},
   "outputs": [
    {
     "name": "stdout",
     "output_type": "stream",
     "text": [
      "\n",
      "Setelah Menghapus Kolom Fakultas:\n",
      "       NAMA GENDER  ANGKATAN  TINGGI BADAN  WAKTU PERJALANAN WILAYAH TINGGAL  \\\n",
      "0    Wawan      L      2024           160                45   Tanjung Priok   \n",
      "1     Diva      P      2024           165                30      Pademangan   \n",
      "2  Indilla      P      2024           159                55          Bekasi   \n",
      "3   Billie      P      2024           170                40       Tangerang   \n",
      "4    Elish      P      2024           155                60            Koja   \n",
      "\n",
      "  Kategori Tinggi  Jurusan  \n",
      "0          Pendek  Infor20  \n",
      "1          Tinggi  Infor20  \n",
      "2          Pendek  Infor20  \n",
      "3          Tinggi  Infor20  \n",
      "4          Pendek  Infor20  \n"
     ]
    }
   ],
   "source": [
    "df.drop(columns=[\"Fakultas\"], inplace=True)\n",
    "print(\"\\nSetelah Menghapus Kolom Fakultas:\\n\", df.head())"
   ]
  },
  {
   "cell_type": "code",
   "execution_count": 38,
   "metadata": {},
   "outputs": [
    {
     "name": "stdout",
     "output_type": "stream",
     "text": [
      "\n",
      "Setelah Merge Data Frame:\n",
      "   Nama_Gender Angkatan_Tinggi            Gabungan\n",
      "0     Wawan_L        2024_160    Wawan_L_2024_160\n",
      "1      Diva_P        2024_165     Diva_P_2024_165\n",
      "2   Indilla_P        2024_159  Indilla_P_2024_159\n",
      "3    Billie_P        2024_170   Billie_P_2024_170\n",
      "4     Elish_P        2024_155    Elish_P_2024_155\n"
     ]
    }
   ],
   "source": [
    "# Gabung Nama dan Gender\n",
    "df[\"Nama_Gender\"] = df[\"NAMA\"] + \"_\" + df[\"GENDER\"]\n",
    "# Gabung Angkatan dan Tinggi Badan\n",
    "df[\"Angkatan_Tinggi\"] = df[\"ANGKATAN\"].astype(str) + \"_\" + df[\"TINGGI BADAN\"].astype(str)\n",
    "# Gabung dua kolom gabungan di atas\n",
    "df[\"Gabungan\"] = df[\"Nama_Gender\"] + \"_\" + df[\"Angkatan_Tinggi\"]\n",
    "print(\"\\nSetelah Merge Data Frame:\\n\", df[[\"Nama_Gender\", \"Angkatan_Tinggi\", \"Gabungan\"]].head())"
   ]
  },
  {
   "cell_type": "code",
   "execution_count": 39,
   "metadata": {},
   "outputs": [
    {
     "name": "stdout",
     "output_type": "stream",
     "text": [
      "\n",
      "Gabungan Baris:\n",
      "        NAMA GENDER  ANGKATAN  TINGGI BADAN  WAKTU PERJALANAN WILAYAH TINGGAL  \\\n",
      "0     Wawan      L      2024           160                45   Tanjung Priok   \n",
      "1      Diva      P      2024           165                30      Pademangan   \n",
      "2   Indilla      P      2024           159                55          Bekasi   \n",
      "3    Billie      P      2024           170                40       Tangerang   \n",
      "4     Elish      P      2024           155                60            Koja   \n",
      "24      Edi      L      2024           173                30      Pademangan   \n",
      "25     Anna      P      2024           175                30         Pantura   \n",
      "26     Rina      P      2024           159                25            Jeju   \n",
      "27    Darma      L      2024           166                15           Tokyo   \n",
      "28      Dio      L      2024           168                10      Pasar Lama   \n",
      "29     Lala      P      2024           170                 5            Enim   \n",
      "\n",
      "   Kategori Tinggi  Jurusan Nama_Gender Angkatan_Tinggi            Gabungan  \n",
      "0           Pendek  Infor20     Wawan_L        2024_160    Wawan_L_2024_160  \n",
      "1           Tinggi  Infor20      Diva_P        2024_165     Diva_P_2024_165  \n",
      "2           Pendek  Infor20   Indilla_P        2024_159  Indilla_P_2024_159  \n",
      "3           Tinggi  Infor20    Billie_P        2024_170   Billie_P_2024_170  \n",
      "4           Pendek  Infor20     Elish_P        2024_155    Elish_P_2024_155  \n",
      "24          Tinggi  Infor20       Edi_L        2024_173      Edi_L_2024_173  \n",
      "25          Tinggi  Infor20      Anna_P        2024_175     Anna_P_2024_175  \n",
      "26          Pendek  Infor20      Rina_P        2024_159     Rina_P_2024_159  \n",
      "27          Tinggi  Infor20     Darma_L        2024_166    Darma_L_2024_166  \n",
      "28          Tinggi  Infor20       Dio_L        2024_168      Dio_L_2024_168  \n",
      "29          Tinggi  Infor20      Lala_P        2024_170     Lala_P_2024_170  \n"
     ]
    }
   ],
   "source": [
    "# Gabungkan baris 1-5 dan 25-30, lalu gabungkan hasilnya\n",
    "df_baris1 = df.iloc[0:5]\n",
    "df_baris2 = df.iloc[24:30]\n",
    "df_baris_merged = pd.concat([df_baris1, df_baris2])\n",
    "print(\"\\nGabungan Baris:\\n\", df_baris_merged)"
   ]
  },
  {
   "cell_type": "code",
   "execution_count": 40,
   "metadata": {},
   "outputs": [
    {
     "name": "stdout",
     "output_type": "stream",
     "text": [
      "\n",
      "Setelah Sorting Data:\n",
      "         NAMA GENDER  ANGKATAN  TINGGI BADAN  WAKTU PERJALANAN WILAYAH TINGGAL  \\\n",
      "29      Lala      P      2024           170                 5            Enim   \n",
      "18      Afif      L      2024           170                10          Satria   \n",
      "17      Egla      P      2024           166                10      Pasar Baru   \n",
      "28       Dio      L      2024           168                10      Pasar Lama   \n",
      "7   Marshall      L      2024           179                15       Kalideres   \n",
      "\n",
      "   Kategori Tinggi  Jurusan Nama_Gender Angkatan_Tinggi             Gabungan  \n",
      "29          Tinggi  Infor20      Lala_P        2024_170      Lala_P_2024_170  \n",
      "18          Tinggi  Infor20      Afif_L        2024_170      Afif_L_2024_170  \n",
      "17          Tinggi  Infor20      Egla_P        2024_166      Egla_P_2024_166  \n",
      "28          Tinggi  Infor20       Dio_L        2024_168       Dio_L_2024_168  \n",
      "7           Tinggi  Infor20  Marshall_L        2024_179  Marshall_L_2024_179  \n"
     ]
    }
   ],
   "source": [
    "df_sorted = df.sort_values(by=\"WAKTU PERJALANAN\")\n",
    "print(\"\\nSetelah Sorting Data:\\n\", df_sorted.head())"
   ]
  }
 ],
 "metadata": {
  "kernelspec": {
   "display_name": "base",
   "language": "python",
   "name": "python3"
  },
  "language_info": {
   "codemirror_mode": {
    "name": "ipython",
    "version": 3
   },
   "file_extension": ".py",
   "mimetype": "text/x-python",
   "name": "python",
   "nbconvert_exporter": "python",
   "pygments_lexer": "ipython3",
   "version": "3.12.3"
  }
 },
 "nbformat": 4,
 "nbformat_minor": 2
}
