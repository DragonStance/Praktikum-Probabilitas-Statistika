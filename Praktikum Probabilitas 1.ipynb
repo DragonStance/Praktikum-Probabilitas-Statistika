{
 "cells": [
  {
   "cell_type": "code",
   "execution_count": null,
   "metadata": {},
   "outputs": [],
   "source": [
    "import pandas as pd\n",
    "#Membuat dataframe dari data yang disalin ke clipboard\n",
    "df = pd.read_clipboard()"
   ]
  },
  {
   "cell_type": "code",
   "execution_count": 2,
   "metadata": {},
   "outputs": [
    {
     "data": {
      "text/html": [
       "<div>\n",
       "<style scoped>\n",
       "    .dataframe tbody tr th:only-of-type {\n",
       "        vertical-align: middle;\n",
       "    }\n",
       "\n",
       "    .dataframe tbody tr th {\n",
       "        vertical-align: top;\n",
       "    }\n",
       "\n",
       "    .dataframe thead th {\n",
       "        text-align: right;\n",
       "    }\n",
       "</style>\n",
       "<table border=\"1\" class=\"dataframe\">\n",
       "  <thead>\n",
       "    <tr style=\"text-align: right;\">\n",
       "      <th></th>\n",
       "      <th>NAMA</th>\n",
       "      <th>GENDER</th>\n",
       "      <th>ANGKATAN</th>\n",
       "      <th>TINGGI BADAN</th>\n",
       "      <th>WAKTU PERJALANAN</th>\n",
       "      <th>WILAYAH TINGGAL</th>\n",
       "    </tr>\n",
       "  </thead>\n",
       "  <tbody>\n",
       "    <tr>\n",
       "      <th>0</th>\n",
       "      <td>Wawan</td>\n",
       "      <td>L</td>\n",
       "      <td>2024</td>\n",
       "      <td>160</td>\n",
       "      <td>45</td>\n",
       "      <td>Tanjung Priok</td>\n",
       "    </tr>\n",
       "    <tr>\n",
       "      <th>1</th>\n",
       "      <td>Diva</td>\n",
       "      <td>P</td>\n",
       "      <td>2024</td>\n",
       "      <td>165</td>\n",
       "      <td>30</td>\n",
       "      <td>Pademangan</td>\n",
       "    </tr>\n",
       "    <tr>\n",
       "      <th>2</th>\n",
       "      <td>Indilla</td>\n",
       "      <td>P</td>\n",
       "      <td>2024</td>\n",
       "      <td>159</td>\n",
       "      <td>55</td>\n",
       "      <td>Bekasi</td>\n",
       "    </tr>\n",
       "    <tr>\n",
       "      <th>3</th>\n",
       "      <td>Billie</td>\n",
       "      <td>P</td>\n",
       "      <td>2024</td>\n",
       "      <td>170</td>\n",
       "      <td>40</td>\n",
       "      <td>Tangerang</td>\n",
       "    </tr>\n",
       "    <tr>\n",
       "      <th>4</th>\n",
       "      <td>Elish</td>\n",
       "      <td>P</td>\n",
       "      <td>2024</td>\n",
       "      <td>155</td>\n",
       "      <td>60</td>\n",
       "      <td>Koja</td>\n",
       "    </tr>\n",
       "    <tr>\n",
       "      <th>5</th>\n",
       "      <td>Kai</td>\n",
       "      <td>L</td>\n",
       "      <td>2024</td>\n",
       "      <td>150</td>\n",
       "      <td>20</td>\n",
       "      <td>Sunter</td>\n",
       "    </tr>\n",
       "    <tr>\n",
       "      <th>6</th>\n",
       "      <td>Cenat</td>\n",
       "      <td>L</td>\n",
       "      <td>2024</td>\n",
       "      <td>157</td>\n",
       "      <td>30</td>\n",
       "      <td>Kelapa Gading</td>\n",
       "    </tr>\n",
       "    <tr>\n",
       "      <th>7</th>\n",
       "      <td>Marshall</td>\n",
       "      <td>L</td>\n",
       "      <td>2024</td>\n",
       "      <td>179</td>\n",
       "      <td>15</td>\n",
       "      <td>Kalideres</td>\n",
       "    </tr>\n",
       "    <tr>\n",
       "      <th>8</th>\n",
       "      <td>Lili</td>\n",
       "      <td>P</td>\n",
       "      <td>2024</td>\n",
       "      <td>175</td>\n",
       "      <td>25</td>\n",
       "      <td>Batu Ceper</td>\n",
       "    </tr>\n",
       "    <tr>\n",
       "      <th>9</th>\n",
       "      <td>Tirta</td>\n",
       "      <td>L</td>\n",
       "      <td>2024</td>\n",
       "      <td>170</td>\n",
       "      <td>50</td>\n",
       "      <td>Angke</td>\n",
       "    </tr>\n",
       "  </tbody>\n",
       "</table>\n",
       "</div>"
      ],
      "text/plain": [
       "       NAMA GENDER  ANGKATAN  TINGGI BADAN  WAKTU PERJALANAN WILAYAH TINGGAL\n",
       "0     Wawan      L      2024           160                45   Tanjung Priok\n",
       "1      Diva      P      2024           165                30      Pademangan\n",
       "2   Indilla      P      2024           159                55          Bekasi\n",
       "3    Billie      P      2024           170                40       Tangerang\n",
       "4     Elish      P      2024           155                60            Koja\n",
       "5       Kai      L      2024           150                20          Sunter\n",
       "6     Cenat      L      2024           157                30   Kelapa Gading\n",
       "7  Marshall      L      2024           179                15       Kalideres\n",
       "8      Lili      P      2024           175                25      Batu Ceper\n",
       "9     Tirta      L      2024           170                50           Angke"
      ]
     },
     "execution_count": 2,
     "metadata": {},
     "output_type": "execute_result"
    }
   ],
   "source": [
    "df"
   ]
  },
  {
   "cell_type": "code",
   "execution_count": 7,
   "metadata": {},
   "outputs": [
    {
     "data": {
      "text/plain": [
       "np.float64(164.0)"
      ]
     },
     "execution_count": 7,
     "metadata": {},
     "output_type": "execute_result"
    }
   ],
   "source": [
    "#Menghitung rata rata tinggi badan\n",
    "rata_tinggi = df['TINGGI BADAN'].mean()\n",
    "rata_tinggi"
   ]
  },
  {
   "cell_type": "code",
   "execution_count": 8,
   "metadata": {},
   "outputs": [
    {
     "name": "stdout",
     "output_type": "stream",
     "text": [
      "NAMA                object\n",
      "GENDER              object\n",
      "ANGKATAN             int64\n",
      "TINGGI BADAN         int64\n",
      "WAKTU PERJALANAN     int64\n",
      "WILAYAH TINGGAL     object\n",
      "dtype: object\n"
     ]
    }
   ],
   "source": [
    "print(df.dtypes)"
   ]
  },
  {
   "cell_type": "code",
   "execution_count": 9,
   "metadata": {},
   "outputs": [],
   "source": [
    "#Mengubah tipe data kolom 'ANGKATAN' menjadi string\n",
    "df['ANGKATAN'] = df['ANGKATAN'].astype(str)"
   ]
  },
  {
   "cell_type": "code",
   "execution_count": 10,
   "metadata": {},
   "outputs": [
    {
     "name": "stdout",
     "output_type": "stream",
     "text": [
      "NAMA                object\n",
      "GENDER              object\n",
      "ANGKATAN            object\n",
      "TINGGI BADAN         int64\n",
      "WAKTU PERJALANAN     int64\n",
      "WILAYAH TINGGAL     object\n",
      "dtype: object\n"
     ]
    }
   ],
   "source": [
    "print(df.dtypes)"
   ]
  }
 ],
 "metadata": {
  "kernelspec": {
   "display_name": "Python 3",
   "language": "python",
   "name": "python3"
  },
  "language_info": {
   "codemirror_mode": {
    "name": "ipython",
    "version": 3
   },
   "file_extension": ".py",
   "mimetype": "text/x-python",
   "name": "python",
   "nbconvert_exporter": "python",
   "pygments_lexer": "ipython3",
   "version": "3.10.6"
  }
 },
 "nbformat": 4,
 "nbformat_minor": 2
}
